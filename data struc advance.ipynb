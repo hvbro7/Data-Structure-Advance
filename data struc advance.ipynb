{
 "cells": [
  {
   "cell_type": "code",
   "execution_count": 1,
   "id": "1f62dfd5",
   "metadata": {},
   "outputs": [
    {
     "name": "stdout",
     "output_type": "stream",
     "text": [
      "olleh\n"
     ]
    }
   ],
   "source": [
    "#1. Write a code to reverse a string\n",
    "\n",
    "s = \"hello\"\n",
    "reversed_s = s[::-1]\n",
    "print(reversed_s)\n"
   ]
  },
  {
   "cell_type": "code",
   "execution_count": null,
   "id": "ca30e039",
   "metadata": {},
   "outputs": [
    {
     "name": "stdout",
     "output_type": "stream",
     "text": [
      "3\n"
     ]
    }
   ],
   "source": [
    "#2. Write a code to count the number of vowels in a string\n",
    "\n",
    "s = \"hello world\"\n",
    "vowels = 'aeiouAEIOU'\n",
    "count = sum(1 for char in s if char in vowels)\n",
    "print(count)\n"
   ]
  },
  {
   "cell_type": "code",
   "execution_count": 3,
   "id": "33042d7f",
   "metadata": {},
   "outputs": [
    {
     "name": "stdout",
     "output_type": "stream",
     "text": [
      "True\n"
     ]
    }
   ],
   "source": [
    "#3. Write a code to check if a given string is a palindrome or not\n",
    "\n",
    "s = \"madam\"\n",
    "is_palindrome = s == s[::-1]\n",
    "print(is_palindrome)\n"
   ]
  },
  {
   "cell_type": "code",
   "execution_count": null,
   "id": "fe72ae5b",
   "metadata": {},
   "outputs": [
    {
     "name": "stdout",
     "output_type": "stream",
     "text": [
      "True\n"
     ]
    }
   ],
   "source": [
    "#4. Write a code to check if two given strings are anagrams of each other\n",
    "\n",
    "from collections import Counter\n",
    "\n",
    "s1 = \"listen\"\n",
    "s2 = \"silent\"\n",
    "are_anagrams = Counter(s1) == Counter(s2)\n",
    "print(are_anagrams)\n"
   ]
  },
  {
   "cell_type": "code",
   "execution_count": null,
   "id": "61004a4c",
   "metadata": {},
   "outputs": [
    {
     "name": "stdout",
     "output_type": "stream",
     "text": [
      "[1, 3]\n"
     ]
    }
   ],
   "source": [
    "#5.  Write a code to find all occurrences of a given substring within another string\n",
    "\n",
    "\n",
    "s = \"banana\"\n",
    "sub = \"ana\"\n",
    "positions = [i for i in range(len(s)) if s.startswith(sub, i)]\n",
    "print(positions)\n"
   ]
  },
  {
   "cell_type": "code",
   "execution_count": 6,
   "id": "342f9575",
   "metadata": {},
   "outputs": [
    {
     "name": "stdout",
     "output_type": "stream",
     "text": [
      "a3b2c3\n"
     ]
    }
   ],
   "source": [
    "#6. Write a code to perform basic string compression using the counts of repeated characters\n",
    "\n",
    "\n",
    "def compress_string(s):\n",
    "    result = []\n",
    "    i = 0\n",
    "    while i < len(s):\n",
    "        count = 1\n",
    "        while i + 1 < len(s) and s[i] == s[i+1]:\n",
    "            i += 1\n",
    "            count += 1\n",
    "        result.append(f\"{s[i]}{count}\")\n",
    "        i += 1\n",
    "    return ''.join(result)\n",
    "\n",
    "print(compress_string(\"aaabbccc\"))\n"
   ]
  },
  {
   "cell_type": "code",
   "execution_count": 8,
   "id": "df029d85",
   "metadata": {},
   "outputs": [
    {
     "name": "stdout",
     "output_type": "stream",
     "text": [
      "True\n"
     ]
    }
   ],
   "source": [
    "#7. Write a code to determine if a string has all unique characters\n",
    "\n",
    "\n",
    "s = \"abcdef\"\n",
    "has_unique_chars = len(set(s)) == len(s)\n",
    "print(has_unique_chars)\n"
   ]
  },
  {
   "cell_type": "code",
   "execution_count": 9,
   "id": "9f5408a5",
   "metadata": {},
   "outputs": [
    {
     "name": "stdout",
     "output_type": "stream",
     "text": [
      "hello world\n",
      "HELLO WORLD\n"
     ]
    }
   ],
   "source": [
    "#8. Write a code to convert a given string to uppercase or lowercase\n",
    "\n",
    "\n",
    "s = \"HeLLo WoRLD\"\n",
    "print(s.lower())\n",
    "print(s.upper())\n"
   ]
  },
  {
   "cell_type": "code",
   "execution_count": null,
   "id": "2f12decb",
   "metadata": {},
   "outputs": [
    {
     "name": "stdout",
     "output_type": "stream",
     "text": [
      "5\n"
     ]
    }
   ],
   "source": [
    "#9. Write a code to count the number of words in a string\n",
    "\n",
    "\n",
    "s = \"This is a sample string\"\n",
    "word_count = len(s.split())\n",
    "print(word_count)\n"
   ]
  },
  {
   "cell_type": "code",
   "execution_count": null,
   "id": "091a29ce",
   "metadata": {},
   "outputs": [
    {
     "name": "stdout",
     "output_type": "stream",
     "text": [
      "Hello World\n"
     ]
    }
   ],
   "source": [
    "#10. Write a code to concatenate two strings without using the + operator\n",
    "\n",
    "\n",
    "s1 = \"Hello \"\n",
    "s2 = \"World\"\n",
    "s3 = \"{}{}\".format(s1, s2)\n",
    "print(s3)\n"
   ]
  },
  {
   "cell_type": "code",
   "execution_count": 12,
   "id": "2afce03e",
   "metadata": {},
   "outputs": [
    {
     "name": "stdout",
     "output_type": "stream",
     "text": [
      "[1, 3, 4]\n"
     ]
    }
   ],
   "source": [
    "#11. Write a code to remove all occurrences of a specific element from a list\n",
    "\n",
    "lst = [1, 2, 3, 2, 4, 2]\n",
    "element = 2\n",
    "filtered_list = [x for x in lst if x != element]\n",
    "print(filtered_list)\n"
   ]
  },
  {
   "cell_type": "code",
   "execution_count": 13,
   "id": "62d0d5b3",
   "metadata": {},
   "outputs": [
    {
     "name": "stdout",
     "output_type": "stream",
     "text": [
      "45\n"
     ]
    }
   ],
   "source": [
    "#12.Implement a code to find the second largest number in a given list of integers\n",
    "\n",
    "\n",
    "lst = [10, 20, 4, 45, 99]\n",
    "unique_sorted = sorted(set(lst), reverse=True)\n",
    "second_largest = unique_sorted[1] if len(unique_sorted) > 1 else None\n",
    "print(second_largest)\n"
   ]
  },
  {
   "cell_type": "code",
   "execution_count": 14,
   "id": "5d9c9375",
   "metadata": {},
   "outputs": [
    {
     "name": "stdout",
     "output_type": "stream",
     "text": [
      "{1: 1, 2: 2, 3: 3}\n"
     ]
    }
   ],
   "source": [
    "#13. Create a code to count the occurrences of each element in a list and return a dictionary with elements as keys and their counts as values\n",
    "\n",
    "\n",
    "\n",
    "from collections import Counter\n",
    "\n",
    "lst = [1, 2, 2, 3, 3, 3]\n",
    "counts = dict(Counter(lst))\n",
    "print(counts)\n"
   ]
  },
  {
   "cell_type": "code",
   "execution_count": 15,
   "id": "5867cc37",
   "metadata": {},
   "outputs": [
    {
     "name": "stdout",
     "output_type": "stream",
     "text": [
      "[5, 4, 3, 2, 1]\n"
     ]
    }
   ],
   "source": [
    "#14. Write a code to reverse a list in-place without using any built-in reverse functions\n",
    "\n",
    "\n",
    "lst = [1, 2, 3, 4, 5]\n",
    "n = len(lst)\n",
    "for i in range(n // 2):\n",
    "    lst[i], lst[n - 1 - i] = lst[n - 1 - i], lst[i]\n",
    "print(lst)\n"
   ]
  },
  {
   "cell_type": "code",
   "execution_count": 16,
   "id": "a4cd035a",
   "metadata": {},
   "outputs": [
    {
     "name": "stdout",
     "output_type": "stream",
     "text": [
      "[1, 2, 3, 4]\n"
     ]
    }
   ],
   "source": [
    "#15. Implement a code to find and remove duplicates from a list while preserving the original order of elements\n",
    "\n",
    "\n",
    "lst = [1, 2, 2, 3, 1, 4]\n",
    "seen = set()\n",
    "unique_lst = []\n",
    "for item in lst:\n",
    "    if item not in seen:\n",
    "        seen.add(item)\n",
    "        unique_lst.append(item)\n",
    "print(unique_lst)\n"
   ]
  },
  {
   "cell_type": "code",
   "execution_count": null,
   "id": "93aacc99",
   "metadata": {},
   "outputs": [
    {
     "name": "stdout",
     "output_type": "stream",
     "text": [
      "True\n",
      "True\n",
      "False\n"
     ]
    }
   ],
   "source": [
    "#16. Create a code to check if a given list is sorted (either in ascending or descending order) or not\n",
    "\n",
    "\n",
    "def is_sorted(lst):\n",
    "    return lst == sorted(lst) or lst == sorted(lst, reverse=True)\n",
    "\n",
    "print(is_sorted([1, 2, 3]))    \n",
    "print(is_sorted([3, 2, 1]))    \n",
    "print(is_sorted([1, 3, 2]))    \n"
   ]
  },
  {
   "cell_type": "code",
   "execution_count": null,
   "id": "497bbf2c",
   "metadata": {},
   "outputs": [
    {
     "name": "stdout",
     "output_type": "stream",
     "text": [
      "[1, 2, 3, 4, 5, 6]\n"
     ]
    }
   ],
   "source": [
    "#17. Write a code to merge two sorted lists into a single sorted list\n",
    "\n",
    "\n",
    "\n",
    "def merge_sorted_lists(l1, l2):\n",
    "    merged = []\n",
    "    i = j = 0\n",
    "    while i < len(l1) and j < len(l2):\n",
    "        if l1[i] < l2[j]:\n",
    "            merged.append(l1[i])\n",
    "            i += 1\n",
    "        else:\n",
    "            merged.append(l2[j])\n",
    "            j += 1\n",
    "    merged.extend(l1[i:])\n",
    "    merged.extend(l2[j:])\n",
    "    return merged\n",
    "\n",
    "print(merge_sorted_lists([1, 3, 5], [2, 4, 6]))\n"
   ]
  },
  {
   "cell_type": "code",
   "execution_count": null,
   "id": "d7cad928",
   "metadata": {},
   "outputs": [
    {
     "name": "stdout",
     "output_type": "stream",
     "text": [
      "[2, 3]\n"
     ]
    }
   ],
   "source": [
    "#18.  Implement a code to find the intersection of two given lists\n",
    "\n",
    "\n",
    "\n",
    "def list_intersection(l1, l2):\n",
    "    return list(set(l1) & set(l2))\n",
    "\n",
    "print(list_intersection([1, 2, 3], [2, 3, 4]))\n"
   ]
  },
  {
   "cell_type": "code",
   "execution_count": null,
   "id": "14b1ffc8",
   "metadata": {},
   "outputs": [
    {
     "name": "stdout",
     "output_type": "stream",
     "text": [
      "[1, 2, 3, 4, 5]\n"
     ]
    }
   ],
   "source": [
    "#19. Create a code to find the union of two lists without duplicates \n",
    "\n",
    "\n",
    "def list_union(l1, l2):\n",
    "    return list(set(l1) | set(l2))\n",
    "\n",
    "print(list_union([1, 2, 3], [3, 4, 5]))\n"
   ]
  },
  {
   "cell_type": "code",
   "execution_count": null,
   "id": "20defc36",
   "metadata": {},
   "outputs": [
    {
     "name": "stdout",
     "output_type": "stream",
     "text": [
      "[1, 3, 5, 4, 2]\n"
     ]
    }
   ],
   "source": [
    "#20. Write a code to shuffle a given list randomly without using any built-in shuffle functions\n",
    "\n",
    "\n",
    "import random\n",
    "\n",
    "def manual_shuffle(lst):\n",
    "    shuffled = []\n",
    "    items = lst[:]\n",
    "    while items:\n",
    "        idx = random.randint(0, len(items) - 1)\n",
    "        shuffled.append(items.pop(idx))\n",
    "    return shuffled\n",
    "\n",
    "print(manual_shuffle([1, 2, 3, 4, 5]))\n"
   ]
  },
  {
   "cell_type": "code",
   "execution_count": null,
   "id": "26f0556f",
   "metadata": {},
   "outputs": [
    {
     "name": "stdout",
     "output_type": "stream",
     "text": [
      "(2, 3)\n"
     ]
    }
   ],
   "source": [
    "#21. Write a code that takes two tuples as input and returns a new tuple containing elements that are common to both input tuples\n",
    "\n",
    "\n",
    "def common_elements(t1, t2):\n",
    "    return tuple(set(t1) & set(t2))\n",
    "\n",
    "print(common_elements((1, 2, 3), (2, 3, 4)))\n"
   ]
  },
  {
   "cell_type": "code",
   "execution_count": null,
   "id": "f497ddeb",
   "metadata": {},
   "outputs": [
    {
     "name": "stdout",
     "output_type": "stream",
     "text": [
      "Intersection: set()\n"
     ]
    }
   ],
   "source": [
    "#22. Create a code that prompts the user to enter two sets of integers separated by commas. Then, print the intersection of these two sets\n",
    "\n",
    "\n",
    "s1 = set(map(int, input(\"Enter first set of integers (comma-separated): \").split(',')))\n",
    "s2 = set(map(int, input(\"Enter second set of integers (comma-separated): \").split(',')))\n",
    "print(\"Intersection:\", s1 & s2)\n"
   ]
  },
  {
   "cell_type": "code",
   "execution_count": null,
   "id": "21d8539d",
   "metadata": {},
   "outputs": [
    {
     "name": "stdout",
     "output_type": "stream",
     "text": [
      "(1, 2, 3, 4)\n"
     ]
    }
   ],
   "source": [
    "#23. Write a code to concatenate two tuples. The function should take two tuples as input and return a new tuple containing elements from both input tuples.\n",
    "\n",
    "def concatenate_tuples(t1, t2):\n",
    "    return t1 + t2\n",
    "\n",
    "print(concatenate_tuples((1, 2), (3, 4)))\n"
   ]
  },
  {
   "cell_type": "code",
   "execution_count": null,
   "id": "ac228823",
   "metadata": {},
   "outputs": [
    {
     "name": "stdout",
     "output_type": "stream",
     "text": [
      "Elements in first but not in second: {'harshit'}\n"
     ]
    }
   ],
   "source": [
    "#24. & Develop a code that prompts the user to input two sets of strings. Then, print the elements that are present in the first set but not in the second set&\n",
    "\n",
    "\n",
    "s1 = set(input(\"Enter first set of strings (comma-separated): \").split(','))\n",
    "s2 = set(input(\"Enter second set of strings (comma-separated): \").split(','))\n",
    "print(\"Elements in first but not in second:\", s1 - s2)\n"
   ]
  },
  {
   "cell_type": "code",
   "execution_count": null,
   "id": "99d01380",
   "metadata": {},
   "outputs": [
    {
     "name": "stdout",
     "output_type": "stream",
     "text": [
      "(20, 30, 40)\n"
     ]
    }
   ],
   "source": [
    "#25. Create a code that takes a tuple and two integers as input. The function should return a new tuple containing elements from the original tuple within the specified range of indices&\n",
    "\n",
    "\n",
    "def slice_tuple(tpl, start, end):\n",
    "    return tpl[start:end]\n",
    "\n",
    "print(slice_tuple((10, 20, 30, 40, 50), 1, 4))  \n"
   ]
  },
  {
   "cell_type": "code",
   "execution_count": null,
   "id": "031902f6",
   "metadata": {},
   "outputs": [
    {
     "name": "stdout",
     "output_type": "stream",
     "text": [
      "Union: {'s', '5', '4', 'b', '2', 'u'}\n"
     ]
    }
   ],
   "source": [
    "#26. Write a code that prompts the user to input two sets of characters. Then, print the union of these two sets\n",
    "\n",
    "\n",
    "set1 = set(input(\"Enter first set of characters: \"))\n",
    "set2 = set(input(\"Enter second set of characters: \"))\n",
    "print(\"Union:\", set1 | set2)\n"
   ]
  },
  {
   "cell_type": "code",
   "execution_count": null,
   "id": "f1082c64",
   "metadata": {},
   "outputs": [
    {
     "name": "stdout",
     "output_type": "stream",
     "text": [
      "(7, 1)\n"
     ]
    }
   ],
   "source": [
    "#27.Develop a code that takes a tuple of integers as input. The function should return the maximum and minimum values from the tuple using tuple unpacking&\n",
    "\n",
    "\n",
    "def max_min_tuple(tpl):\n",
    "    maximum, minimum = max(tpl), min(tpl)\n",
    "    return maximum, minimum\n",
    "\n",
    "print(max_min_tuple((3, 1, 7, 4)))  \n"
   ]
  },
  {
   "cell_type": "code",
   "execution_count": null,
   "id": "c20f3b1b",
   "metadata": {},
   "outputs": [
    {
     "name": "stdout",
     "output_type": "stream",
     "text": [
      "Union: {1, 2, 3, 4, 5, 6}\n",
      "Intersection: {3, 4}\n",
      "Difference (set1 - set2): {1, 2}\n"
     ]
    }
   ],
   "source": [
    "#28. Create a code that defines two sets of integers. Then, print the union, intersection, and difference of these two sets\n",
    "\n",
    "\n",
    "set1 = {1, 2, 3, 4}\n",
    "set2 = {3, 4, 5, 6}\n",
    "print(\"Union:\", set1 | set2)\n",
    "print(\"Intersection:\", set1 & set2)\n",
    "print(\"Difference (set1 - set2):\", set1 - set2)\n"
   ]
  },
  {
   "cell_type": "code",
   "execution_count": null,
   "id": "0a30136e",
   "metadata": {},
   "outputs": [
    {
     "name": "stdout",
     "output_type": "stream",
     "text": [
      "3\n"
     ]
    }
   ],
   "source": [
    "#29.Write a code that takes a tuple and an element as input. The function should return the count of occurrences of the given element in the tuple&\n",
    "\n",
    "\n",
    "def count_element(tpl, element):\n",
    "    return tpl.count(element)\n",
    "\n",
    "print(count_element((1, 2, 2, 3, 2), 2))  \n"
   ]
  },
  {
   "cell_type": "code",
   "execution_count": null,
   "id": "5bd96236",
   "metadata": {},
   "outputs": [
    {
     "name": "stdout",
     "output_type": "stream",
     "text": [
      "Symmetric Difference: {'datascience', 'pwskills'}\n"
     ]
    }
   ],
   "source": [
    "#30. Develop a code that prompts the user to input two sets of strings. Then, print the symmetric difference of these two sets\n",
    "\n",
    "\n",
    "s1 = set(input(\"Enter first set of strings (comma-separated): \").split(','))\n",
    "s2 = set(input(\"Enter second set of strings (comma-separated): \").split(','))\n",
    "print(\"Symmetric Difference:\", s1 ^ s2)\n"
   ]
  },
  {
   "cell_type": "code",
   "execution_count": null,
   "id": "5b765dcb",
   "metadata": {},
   "outputs": [
    {
     "name": "stdout",
     "output_type": "stream",
     "text": [
      "{'apple': 2, 'banana': 3, 'orange': 1}\n"
     ]
    }
   ],
   "source": [
    "#31. Write a code that takes a list of words as input and returns a dictionary where the keys are unique words and the values are the frequencies of those words in the input list&\n",
    "\n",
    "def word_frequencies(words):\n",
    "    freq = {}\n",
    "    for word in words:\n",
    "        freq[word] = freq.get(word, 0) + 1\n",
    "    return freq\n",
    "\n",
    "words = [\"apple\", \"banana\", \"apple\", \"orange\", \"banana\", \"banana\"]\n",
    "print(word_frequencies(words))\n"
   ]
  },
  {
   "cell_type": "code",
   "execution_count": null,
   "id": "2f02ca01",
   "metadata": {},
   "outputs": [
    {
     "name": "stdout",
     "output_type": "stream",
     "text": [
      "{'a': 2, 'b': 7, 'c': 5}\n"
     ]
    }
   ],
   "source": [
    "#32. Write a code that takes two dictionaries as input and merges them into a single dictionary. If there are\n",
    "#common keys, the values should be added together&\n",
    "\n",
    "def merge_dicts(d1, d2):\n",
    "    merged = d1.copy()\n",
    "    for key, value in d2.items():\n",
    "        merged[key] = merged.get(key, 0) + value\n",
    "    return merged\n",
    "\n",
    "print(merge_dicts({'a': 2, 'b': 3}, {'b': 4, 'c': 5}))\n"
   ]
  },
  {
   "cell_type": "code",
   "execution_count": null,
   "id": "aaf05a41",
   "metadata": {},
   "outputs": [
    {
     "name": "stdout",
     "output_type": "stream",
     "text": [
      "42\n",
      "None\n"
     ]
    }
   ],
   "source": [
    "#33.Write a code to access a value in a nested dictionary. The function should take the dictionary and a list of\n",
    "#keys as input, and return the corresponding value. If any of the keys do not exist in the dictionary, the\n",
    "#function should return None&\n",
    "\n",
    "def access_nested(d, keys):\n",
    "    for key in keys:\n",
    "        if isinstance(d, dict) and key in d:\n",
    "            d = d[key]\n",
    "        else:\n",
    "            return None\n",
    "    return d\n",
    "\n",
    "nested_dict = {'a': {'b': {'c': 42}}}\n",
    "print(access_nested(nested_dict, ['a', 'b', 'c']))  \n",
    "print(access_nested(nested_dict, ['a', 'x', 'c']))  \n",
    "\n"
   ]
  },
  {
   "cell_type": "code",
   "execution_count": null,
   "id": "22b7ba58",
   "metadata": {},
   "outputs": [
    {
     "name": "stdout",
     "output_type": "stream",
     "text": [
      "{'b': 1, 'c': 2, 'a': 3}\n",
      "{'a': 3, 'c': 2, 'b': 1}\n"
     ]
    }
   ],
   "source": [
    "#34. Write a code that takes a dictionary as input and returns a sorted version of it based on the values. You\n",
    "#can choose whether to sort in ascending or descending order\n",
    "\n",
    "\n",
    "def sort_dict_by_values(d, reverse=False):\n",
    "    return dict(sorted(d.items(), key=lambda item: item[1], reverse=reverse))\n",
    "\n",
    "d = {'a': 3, 'b': 1, 'c': 2}\n",
    "print(sort_dict_by_values(d))       \n",
    "print(sort_dict_by_values(d, True)) \n"
   ]
  },
  {
   "cell_type": "code",
   "execution_count": null,
   "id": "7b90dfb4",
   "metadata": {},
   "outputs": [
    {
     "name": "stdout",
     "output_type": "stream",
     "text": [
      "{1: ['a', 'c'], 2: ['b']}\n"
     ]
    }
   ],
   "source": [
    "#35.Write a code that inverts a dictionary, swapping keys and values. Ensure that the inverted dictionary correctly handles cases where multiple keys have the same value by storing the keys as a list in the\n",
    "#inverted dictionary.\n",
    "\n",
    "\n",
    "\n",
    "def invert_dict(d):\n",
    "    inverted = {}\n",
    "    for key, value in d.items():\n",
    "        if value in inverted:\n",
    "            inverted[value].append(key)\n",
    "        else:\n",
    "            inverted[value] = [key]\n",
    "    return inverted\n",
    "\n",
    "d = {'a': 1, 'b': 2, 'c': 1}\n",
    "print(invert_dict(d))  \n"
   ]
  }
 ],
 "metadata": {
  "kernelspec": {
   "display_name": "Python 3",
   "language": "python",
   "name": "python3"
  },
  "language_info": {
   "codemirror_mode": {
    "name": "ipython",
    "version": 3
   },
   "file_extension": ".py",
   "mimetype": "text/x-python",
   "name": "python",
   "nbconvert_exporter": "python",
   "pygments_lexer": "ipython3",
   "version": "3.13.2"
  }
 },
 "nbformat": 4,
 "nbformat_minor": 5
}
